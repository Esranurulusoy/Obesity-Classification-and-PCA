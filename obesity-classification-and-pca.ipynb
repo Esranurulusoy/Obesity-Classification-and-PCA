{
 "cells": [
  {
   "cell_type": "code",
   "execution_count": 1,
   "id": "2b5335ef",
   "metadata": {
    "_cell_guid": "b1076dfc-b9ad-4769-8c92-a6c4dae69d19",
    "_uuid": "8f2839f25d086af736a60e9eeb907d3b93b6e0e5",
    "execution": {
     "iopub.execute_input": "2025-01-24T13:20:47.840223Z",
     "iopub.status.busy": "2025-01-24T13:20:47.839717Z",
     "iopub.status.idle": "2025-01-24T13:20:48.843476Z",
     "shell.execute_reply": "2025-01-24T13:20:48.842095Z"
    },
    "papermill": {
     "duration": 1.010543,
     "end_time": "2025-01-24T13:20:48.845497",
     "exception": false,
     "start_time": "2025-01-24T13:20:47.834954",
     "status": "completed"
    },
    "tags": []
   },
   "outputs": [
    {
     "name": "stdout",
     "output_type": "stream",
     "text": [
      "/kaggle/input/obesity-prediction/Obesity prediction.csv\n"
     ]
    }
   ],
   "source": [
    "# This Python 3 environment comes with many helpful analytics libraries installed\n",
    "# It is defined by the kaggle/python Docker image: https://github.com/kaggle/docker-python\n",
    "# For example, here's several helpful packages to load\n",
    "\n",
    "import numpy as np # linear algebra\n",
    "import pandas as pd # data processing, CSV file I/O (e.g. pd.read_csv)\n",
    "\n",
    "# Input data files are available in the read-only \"../input/\" directory\n",
    "# For example, running this (by clicking run or pressing Shift+Enter) will list all files under the input directory\n",
    "\n",
    "import os\n",
    "for dirname, _, filenames in os.walk('/kaggle/input'):\n",
    "    for filename in filenames:\n",
    "        print(os.path.join(dirname, filename))\n",
    "\n",
    "# You can write up to 20GB to the current directory (/kaggle/working/) that gets preserved as output when you create a version using \"Save & Run All\" \n",
    "# You can also write temporary files to /kaggle/temp/, but they won't be saved outside of the current session"
   ]
  },
  {
   "cell_type": "code",
   "execution_count": 2,
   "id": "c51c13ad",
   "metadata": {
    "execution": {
     "iopub.execute_input": "2025-01-24T13:20:48.853347Z",
     "iopub.status.busy": "2025-01-24T13:20:48.852873Z",
     "iopub.status.idle": "2025-01-24T13:20:50.865469Z",
     "shell.execute_reply": "2025-01-24T13:20:50.864161Z"
    },
    "papermill": {
     "duration": 2.018541,
     "end_time": "2025-01-24T13:20:50.867539",
     "exception": false,
     "start_time": "2025-01-24T13:20:48.848998",
     "status": "completed"
    },
    "tags": []
   },
   "outputs": [],
   "source": [
    "import pandas as pd\n",
    "import numpy as np\n",
    "import matplotlib.pyplot as plt\n",
    "from sklearn.model_selection import train_test_split\n",
    "from sklearn.preprocessing import StandardScaler, LabelEncoder\n",
    "from sklearn.decomposition import PCA\n",
    "from sklearn.linear_model import LogisticRegression\n",
    "from sklearn.ensemble import RandomForestClassifier\n",
    "from sklearn.svm import SVC\n",
    "from sklearn.metrics import classification_report"
   ]
  },
  {
   "cell_type": "code",
   "execution_count": 3,
   "id": "63b375c5",
   "metadata": {
    "execution": {
     "iopub.execute_input": "2025-01-24T13:20:50.875380Z",
     "iopub.status.busy": "2025-01-24T13:20:50.874882Z",
     "iopub.status.idle": "2025-01-24T13:20:50.929128Z",
     "shell.execute_reply": "2025-01-24T13:20:50.927957Z"
    },
    "papermill": {
     "duration": 0.060111,
     "end_time": "2025-01-24T13:20:50.931021",
     "exception": false,
     "start_time": "2025-01-24T13:20:50.870910",
     "status": "completed"
    },
    "tags": []
   },
   "outputs": [],
   "source": [
    "# load dataset\n",
    "\n",
    "df = pd.read_csv(\"/kaggle/input/obesity-prediction/Obesity prediction.csv\")"
   ]
  },
  {
   "cell_type": "code",
   "execution_count": 4,
   "id": "f88c6604",
   "metadata": {
    "execution": {
     "iopub.execute_input": "2025-01-24T13:20:50.939078Z",
     "iopub.status.busy": "2025-01-24T13:20:50.938649Z",
     "iopub.status.idle": "2025-01-24T13:20:50.958418Z",
     "shell.execute_reply": "2025-01-24T13:20:50.957207Z"
    },
    "papermill": {
     "duration": 0.025923,
     "end_time": "2025-01-24T13:20:50.960289",
     "exception": false,
     "start_time": "2025-01-24T13:20:50.934366",
     "status": "completed"
    },
    "tags": []
   },
   "outputs": [],
   "source": [
    "# label Encoding (categoric datas -> numeric)\n",
    "\n",
    "label_encoders = {}\n",
    "for column in df.select_dtypes(include=['object']).columns:\n",
    "    le = LabelEncoder()\n",
    "    df[column] = le.fit_transform(df[column])\n",
    "    label_encoders[column] = le"
   ]
  },
  {
   "cell_type": "code",
   "execution_count": 5,
   "id": "089b0b12",
   "metadata": {
    "execution": {
     "iopub.execute_input": "2025-01-24T13:20:50.967711Z",
     "iopub.status.busy": "2025-01-24T13:20:50.967301Z",
     "iopub.status.idle": "2025-01-24T13:20:50.980197Z",
     "shell.execute_reply": "2025-01-24T13:20:50.978842Z"
    },
    "papermill": {
     "duration": 0.018849,
     "end_time": "2025-01-24T13:20:50.982239",
     "exception": false,
     "start_time": "2025-01-24T13:20:50.963390",
     "status": "completed"
    },
    "tags": []
   },
   "outputs": [],
   "source": [
    "X = df.drop(columns=['Obesity'])\n",
    "y = df.Obesity"
   ]
  },
  {
   "cell_type": "code",
   "execution_count": 6,
   "id": "fc394e9b",
   "metadata": {
    "execution": {
     "iopub.execute_input": "2025-01-24T13:20:50.989704Z",
     "iopub.status.busy": "2025-01-24T13:20:50.989304Z",
     "iopub.status.idle": "2025-01-24T13:20:50.997694Z",
     "shell.execute_reply": "2025-01-24T13:20:50.996353Z"
    },
    "papermill": {
     "duration": 0.014257,
     "end_time": "2025-01-24T13:20:50.999583",
     "exception": false,
     "start_time": "2025-01-24T13:20:50.985326",
     "status": "completed"
    },
    "tags": []
   },
   "outputs": [],
   "source": [
    "# train test split\n",
    "\n",
    "X_train, X_test, y_train, y_test = train_test_split(X, y, test_size=0.2, random_state=42)"
   ]
  },
  {
   "cell_type": "code",
   "execution_count": 7,
   "id": "767ea8b3",
   "metadata": {
    "execution": {
     "iopub.execute_input": "2025-01-24T13:20:51.007230Z",
     "iopub.status.busy": "2025-01-24T13:20:51.006833Z",
     "iopub.status.idle": "2025-01-24T13:20:51.031938Z",
     "shell.execute_reply": "2025-01-24T13:20:51.030748Z"
    },
    "papermill": {
     "duration": 0.031142,
     "end_time": "2025-01-24T13:20:51.034012",
     "exception": false,
     "start_time": "2025-01-24T13:20:51.002870",
     "status": "completed"
    },
    "tags": []
   },
   "outputs": [],
   "source": [
    "# standardization\n",
    "\n",
    "scaler = StandardScaler()\n",
    "X_train_scaled = scaler.fit_transform(X_train)\n",
    "X_test_scaled = scaler.transform(X_test)"
   ]
  },
  {
   "cell_type": "code",
   "execution_count": 8,
   "id": "ab14d017",
   "metadata": {
    "execution": {
     "iopub.execute_input": "2025-01-24T13:20:51.041641Z",
     "iopub.status.busy": "2025-01-24T13:20:51.041297Z",
     "iopub.status.idle": "2025-01-24T13:20:51.046348Z",
     "shell.execute_reply": "2025-01-24T13:20:51.045167Z"
    },
    "papermill": {
     "duration": 0.010948,
     "end_time": "2025-01-24T13:20:51.048170",
     "exception": false,
     "start_time": "2025-01-24T13:20:51.037222",
     "status": "completed"
    },
    "tags": []
   },
   "outputs": [],
   "source": [
    "# classification models\n",
    "\n",
    "models = {\n",
    "    \"Logistic Regression\": LogisticRegression(max_iter=1000),\n",
    "    \"Random Forest\": RandomForestClassifier(n_estimators=100, random_state=42),\n",
    "    \"SVM\": SVC(kernel='linear', random_state=42)\n",
    "}"
   ]
  },
  {
   "cell_type": "code",
   "execution_count": 9,
   "id": "64bd1dd1",
   "metadata": {
    "execution": {
     "iopub.execute_input": "2025-01-24T13:20:51.055545Z",
     "iopub.status.busy": "2025-01-24T13:20:51.055209Z",
     "iopub.status.idle": "2025-01-24T13:20:51.659796Z",
     "shell.execute_reply": "2025-01-24T13:20:51.658360Z"
    },
    "papermill": {
     "duration": 0.6102,
     "end_time": "2025-01-24T13:20:51.661539",
     "exception": false,
     "start_time": "2025-01-24T13:20:51.051339",
     "status": "completed"
    },
    "tags": []
   },
   "outputs": [
    {
     "name": "stdout",
     "output_type": "stream",
     "text": [
      "Classification Report for Logistic Regression:\n",
      "\n",
      "                     precision    recall  f1-score   support\n",
      "\n",
      "Insufficient_Weight       0.84      1.00      0.91        56\n",
      "      Normal_Weight       0.91      0.63      0.74        62\n",
      "     Obesity_Type_I       0.93      0.90      0.92        78\n",
      "    Obesity_Type_II       0.89      0.97      0.93        58\n",
      "   Obesity_Type_III       1.00      1.00      1.00        63\n",
      " Overweight_Level_I       0.77      0.79      0.78        56\n",
      "Overweight_Level_II       0.76      0.84      0.80        50\n",
      "\n",
      "           accuracy                           0.87       423\n",
      "          macro avg       0.87      0.87      0.87       423\n",
      "       weighted avg       0.88      0.87      0.87       423\n",
      "\n",
      "Classification Report for Random Forest:\n",
      "\n",
      "                     precision    recall  f1-score   support\n",
      "\n",
      "Insufficient_Weight       0.98      0.96      0.97        56\n",
      "      Normal_Weight       0.89      0.90      0.90        62\n",
      "     Obesity_Type_I       0.99      0.97      0.98        78\n",
      "    Obesity_Type_II       0.97      0.98      0.97        58\n",
      "   Obesity_Type_III       1.00      1.00      1.00        63\n",
      " Overweight_Level_I       0.88      0.89      0.88        56\n",
      "Overweight_Level_II       0.98      0.96      0.97        50\n",
      "\n",
      "           accuracy                           0.96       423\n",
      "          macro avg       0.95      0.95      0.95       423\n",
      "       weighted avg       0.96      0.96      0.96       423\n",
      "\n",
      "Classification Report for SVM:\n",
      "\n",
      "                     precision    recall  f1-score   support\n",
      "\n",
      "Insufficient_Weight       0.92      1.00      0.96        56\n",
      "      Normal_Weight       0.96      0.85      0.91        62\n",
      "     Obesity_Type_I       0.99      0.96      0.97        78\n",
      "    Obesity_Type_II       0.97      0.98      0.97        58\n",
      "   Obesity_Type_III       1.00      1.00      1.00        63\n",
      " Overweight_Level_I       0.90      0.93      0.91        56\n",
      "Overweight_Level_II       0.94      0.96      0.95        50\n",
      "\n",
      "           accuracy                           0.96       423\n",
      "          macro avg       0.95      0.96      0.95       423\n",
      "       weighted avg       0.96      0.96      0.95       423\n",
      "\n"
     ]
    }
   ],
   "source": [
    "# training and classification_report results\n",
    "\n",
    "class_labels = label_encoders[\"Obesity\"].classes_\n",
    "\n",
    "for name, model in models.items():\n",
    "    model.fit(X_train_scaled, y_train)\n",
    "    print(f\"Classification Report for {name}:\\n\")\n",
    "    y_pred = model.predict(X_test_scaled)\n",
    "    classification_results = classification_report(y_test, y_pred, target_names=class_labels)\n",
    "    print(classification_results)"
   ]
  },
  {
   "cell_type": "code",
   "execution_count": 10,
   "id": "ef406ff6",
   "metadata": {
    "execution": {
     "iopub.execute_input": "2025-01-24T13:20:51.669522Z",
     "iopub.status.busy": "2025-01-24T13:20:51.669168Z",
     "iopub.status.idle": "2025-01-24T13:20:51.741640Z",
     "shell.execute_reply": "2025-01-24T13:20:51.740528Z"
    },
    "papermill": {
     "duration": 0.078601,
     "end_time": "2025-01-24T13:20:51.743617",
     "exception": false,
     "start_time": "2025-01-24T13:20:51.665016",
     "status": "completed"
    },
    "tags": []
   },
   "outputs": [
    {
     "name": "stdout",
     "output_type": "stream",
     "text": [
      "                     precision    recall  f1-score   support\n",
      "\n",
      "Insufficient_Weight       0.45      0.59      0.51        56\n",
      "      Normal_Weight       0.31      0.26      0.28        62\n",
      "     Obesity_Type_I       0.16      0.19      0.17        78\n",
      "    Obesity_Type_II       0.49      0.76      0.60        58\n",
      "   Obesity_Type_III       0.22      0.16      0.19        63\n",
      " Overweight_Level_I       0.17      0.18      0.17        56\n",
      "Overweight_Level_II       0.00      0.00      0.00        50\n",
      "\n",
      "           accuracy                           0.30       423\n",
      "          macro avg       0.26      0.31      0.27       423\n",
      "       weighted avg       0.26      0.30      0.27       423\n",
      "\n"
     ]
    }
   ],
   "source": [
    "# PCA\n",
    "\n",
    "pca = PCA(n_components=2)\n",
    "X_train_pca = pca.fit_transform(X_train_scaled)\n",
    "X_test_pca = pca.transform(X_test_scaled)\n",
    "\n",
    "# logistic regression after PCA\n",
    "pca_classifier = LogisticRegression(max_iter=1000)\n",
    "pca_classifier.fit(X_train_pca, y_train)\n",
    "y_pred_pca = pca_classifier.predict(X_test_pca)\n",
    "\n",
    "# results after PCA\n",
    "pca_results = classification_report(y_test, y_pred_pca, target_names=class_labels)\n",
    "\n",
    "print(pca_results)"
   ]
  }
 ],
 "metadata": {
  "kaggle": {
   "accelerator": "none",
   "dataSources": [
    {
     "datasetId": 6479256,
     "sourceId": 10465193,
     "sourceType": "datasetVersion"
    }
   ],
   "dockerImageVersionId": 30839,
   "isGpuEnabled": false,
   "isInternetEnabled": true,
   "language": "python",
   "sourceType": "notebook"
  },
  "kernelspec": {
   "display_name": "Python 3",
   "language": "python",
   "name": "python3"
  },
  "language_info": {
   "codemirror_mode": {
    "name": "ipython",
    "version": 3
   },
   "file_extension": ".py",
   "mimetype": "text/x-python",
   "name": "python",
   "nbconvert_exporter": "python",
   "pygments_lexer": "ipython3",
   "version": "3.10.12"
  },
  "papermill": {
   "default_parameters": {},
   "duration": 7.439997,
   "end_time": "2025-01-24T13:20:52.467705",
   "environment_variables": {},
   "exception": null,
   "input_path": "__notebook__.ipynb",
   "output_path": "__notebook__.ipynb",
   "parameters": {},
   "start_time": "2025-01-24T13:20:45.027708",
   "version": "2.6.0"
  }
 },
 "nbformat": 4,
 "nbformat_minor": 5
}
